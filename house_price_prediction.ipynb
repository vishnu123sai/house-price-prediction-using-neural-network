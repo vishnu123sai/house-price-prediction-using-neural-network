{
  "nbformat": 4,
  "nbformat_minor": 0,
  "metadata": {
    "kernelspec": {
      "language": "python",
      "display_name": "Python 3",
      "name": "python3"
    },
    "language_info": {
      "pygments_lexer": "ipython3",
      "nbconvert_exporter": "python",
      "version": "3.6.4",
      "file_extension": ".py",
      "codemirror_mode": {
        "name": "ipython",
        "version": 3
      },
      "name": "python",
      "mimetype": "text/x-python"
    },
    "colab": {
      "name": "house_price_prediction.ipynb",
      "version": "0.3.2",
      "provenance": [],
      "include_colab_link": true
    }
  },
  "cells": [
    {
      "cell_type": "markdown",
      "metadata": {
        "id": "view-in-github",
        "colab_type": "text"
      },
      "source": [
        "<a href=\"https://colab.research.google.com/github/vishnu123sai/house-price-prediction-using-neural-network/blob/master/house_price_prediction.ipynb\" target=\"_parent\"><img src=\"https://colab.research.google.com/assets/colab-badge.svg\" alt=\"Open In Colab\"/></a>"
      ]
    },
    {
      "cell_type": "code",
      "metadata": {
        "_uuid": "8f2839f25d086af736a60e9eeb907d3b93b6e0e5",
        "_cell_guid": "b1076dfc-b9ad-4769-8c92-a6c4dae69d19",
        "trusted": true,
        "id": "ijsoPJDY8s2F",
        "colab_type": "code",
        "outputId": "9a4a64a1-6d9b-4f01-ffc8-1568374245c4",
        "colab": {}
      },
      "source": [
        "# This Python 3 environment comes with many helpful analytics libraries installed\n",
        "# It is defined by the kaggle/python docker image: https://github.com/kaggle/docker-python\n",
        "# For example, here's several helpful packages to load in \n",
        "\n",
        "import numpy as np # linear algebra\n",
        "import pandas as pd # data processing, CSV file I/O (e.g. pd.read_csv)\n",
        "\n",
        "# Input data files are available in the \"../input/\" directory.\n",
        "# For example, running this (by clicking run or pressing Shift+Enter) will list all files under the input directory\n",
        "\n",
        "import os\n",
        "for dirname, _, filenames in os.walk('/kaggle/input'):\n",
        "    for filename in filenames:\n",
        "        print(os.path.join(dirname, filename))\n",
        "\n",
        "# Any results you write to the current directory are saved as output."
      ],
      "execution_count": 0,
      "outputs": [
        {
          "output_type": "stream",
          "text": [
            "/kaggle/input/sample_submission.csv\n",
            "/kaggle/input/test.csv\n",
            "/kaggle/input/data_description.txt\n",
            "/kaggle/input/train.csv\n"
          ],
          "name": "stdout"
        }
      ]
    },
    {
      "cell_type": "code",
      "metadata": {
        "id": "tOSjqd2HJdW8",
        "colab_type": "code",
        "colab": {}
      },
      "source": [
        "#data set is available at https://www.kaggle.com/c/house-prices-advanced-regression-techniques/data#"
      ],
      "execution_count": 0,
      "outputs": []
    },
    {
      "cell_type": "code",
      "metadata": {
        "_uuid": "d629ff2d2480ee46fbb7e2d37f6b5fab8052498a",
        "_cell_guid": "79c7e3d0-c299-4dcb-8224-4455121ee9b0",
        "trusted": true,
        "id": "SDzZXvKS8s2O",
        "colab_type": "code",
        "outputId": "7963c491-0fc6-4d92-e82d-e1459488cd72",
        "colab": {}
      },
      "source": [
        "train_set = pd.read_csv(\"/kaggle/input/train.csv\")\n",
        "test_set = pd.read_csv(\"/kaggle/input/test.csv\")\n",
        "test_y1 = pd.read_csv(\"/kaggle/input/sample_submission.csv\")\n",
        "test_y = test_y1[\"SalePrice\"]\n",
        "print(train_set.shape)\n",
        "print(test_set.shape)"
      ],
      "execution_count": 0,
      "outputs": [
        {
          "output_type": "stream",
          "text": [
            "(1460, 81)\n",
            "(1459, 80)\n"
          ],
          "name": "stdout"
        }
      ]
    },
    {
      "cell_type": "code",
      "metadata": {
        "trusted": true,
        "id": "WcGYlsc_8s2T",
        "colab_type": "code",
        "outputId": "ab45c7c6-a2a5-40fd-da3b-5e305f102e16",
        "colab": {}
      },
      "source": [
        "train_set[['SaleType']].shape\n",
        "train_set['SaleType']\n",
        "XX = train_set.select_dtypes(include=[object])\n",
        "categorical_feature_mask = train_set.dtypes==object\n",
        "categorical_feature_mask = train_set.columns[categorical_feature_mask].tolist();\n",
        "categorical_feature_mask"
      ],
      "execution_count": 0,
      "outputs": [
        {
          "output_type": "execute_result",
          "data": {
            "text/plain": [
              "['MSZoning',\n",
              " 'Street',\n",
              " 'Alley',\n",
              " 'LotShape',\n",
              " 'LandContour',\n",
              " 'Utilities',\n",
              " 'LotConfig',\n",
              " 'LandSlope',\n",
              " 'Neighborhood',\n",
              " 'Condition1',\n",
              " 'Condition2',\n",
              " 'BldgType',\n",
              " 'HouseStyle',\n",
              " 'RoofStyle',\n",
              " 'RoofMatl',\n",
              " 'Exterior1st',\n",
              " 'Exterior2nd',\n",
              " 'MasVnrType',\n",
              " 'ExterQual',\n",
              " 'ExterCond',\n",
              " 'Foundation',\n",
              " 'BsmtQual',\n",
              " 'BsmtCond',\n",
              " 'BsmtExposure',\n",
              " 'BsmtFinType1',\n",
              " 'BsmtFinType2',\n",
              " 'Heating',\n",
              " 'HeatingQC',\n",
              " 'CentralAir',\n",
              " 'Electrical',\n",
              " 'KitchenQual',\n",
              " 'Functional',\n",
              " 'FireplaceQu',\n",
              " 'GarageType',\n",
              " 'GarageFinish',\n",
              " 'GarageQual',\n",
              " 'GarageCond',\n",
              " 'PavedDrive',\n",
              " 'PoolQC',\n",
              " 'Fence',\n",
              " 'MiscFeature',\n",
              " 'SaleType',\n",
              " 'SaleCondition']"
            ]
          },
          "metadata": {
            "tags": []
          },
          "execution_count": 365
        }
      ]
    },
    {
      "cell_type": "code",
      "metadata": {
        "trusted": true,
        "id": "DlN1AL4n8s2Y",
        "colab_type": "code",
        "outputId": "76adf94e-55d2-41aa-deae-5abbef4043b0",
        "colab": {}
      },
      "source": [
        "train_set['SalePrice']\n",
        "corr_matrix =train_set.corr()\n",
        "corr_matrix['SalePrice'].sort_values(ascending=False)\n"
      ],
      "execution_count": 0,
      "outputs": [
        {
          "output_type": "execute_result",
          "data": {
            "text/plain": [
              "SalePrice        1.000000\n",
              "OverallQual      0.790982\n",
              "GrLivArea        0.708624\n",
              "GarageCars       0.640409\n",
              "GarageArea       0.623431\n",
              "TotalBsmtSF      0.613581\n",
              "1stFlrSF         0.605852\n",
              "FullBath         0.560664\n",
              "TotRmsAbvGrd     0.533723\n",
              "YearBuilt        0.522897\n",
              "YearRemodAdd     0.507101\n",
              "GarageYrBlt      0.486362\n",
              "MasVnrArea       0.477493\n",
              "Fireplaces       0.466929\n",
              "BsmtFinSF1       0.386420\n",
              "LotFrontage      0.351799\n",
              "WoodDeckSF       0.324413\n",
              "2ndFlrSF         0.319334\n",
              "OpenPorchSF      0.315856\n",
              "HalfBath         0.284108\n",
              "LotArea          0.263843\n",
              "BsmtFullBath     0.227122\n",
              "BsmtUnfSF        0.214479\n",
              "BedroomAbvGr     0.168213\n",
              "ScreenPorch      0.111447\n",
              "PoolArea         0.092404\n",
              "MoSold           0.046432\n",
              "3SsnPorch        0.044584\n",
              "BsmtFinSF2      -0.011378\n",
              "BsmtHalfBath    -0.016844\n",
              "MiscVal         -0.021190\n",
              "Id              -0.021917\n",
              "LowQualFinSF    -0.025606\n",
              "YrSold          -0.028923\n",
              "OverallCond     -0.077856\n",
              "MSSubClass      -0.084284\n",
              "EnclosedPorch   -0.128578\n",
              "KitchenAbvGr    -0.135907\n",
              "Name: SalePrice, dtype: float64"
            ]
          },
          "metadata": {
            "tags": []
          },
          "execution_count": 366
        }
      ]
    },
    {
      "cell_type": "code",
      "metadata": {
        "trusted": true,
        "id": "P7W9FCN08s2d",
        "colab_type": "code",
        "outputId": "9648b21b-a921-4cd5-9789-e76b1442213e",
        "colab": {}
      },
      "source": [
        "\n",
        "needed_columns = [\"OverallQual\",'GrLivArea','GarageCars','GarageArea','TotalBsmtSF','1stFlrSF','FullBath','TotRmsAbvGrd','YearBuilt','YearRemodAdd',\n",
        "            'GarageYrBlt','MasVnrArea','Fireplaces','BsmtFinSF1','LotFrontage','WoodDeckSF','2ndFlrSF','OpenPorchSF','HalfBath','LotArea','BsmtFullBath','BsmtUnfSF','BedroomAbvGr','ScreenPorch']\n",
        "X = train_set[needed_columns]\n",
        "y = train_set['SalePrice']\n",
        "X.head()"
      ],
      "execution_count": 0,
      "outputs": [
        {
          "output_type": "execute_result",
          "data": {
            "text/plain": [
              "   OverallQual  GrLivArea  GarageCars  GarageArea  TotalBsmtSF  1stFlrSF  \\\n",
              "0            7       1710           2         548          856       856   \n",
              "1            6       1262           2         460         1262      1262   \n",
              "2            7       1786           2         608          920       920   \n",
              "3            7       1717           3         642          756       961   \n",
              "4            8       2198           3         836         1145      1145   \n",
              "\n",
              "   FullBath  TotRmsAbvGrd  YearBuilt  YearRemodAdd     ...       LotFrontage  \\\n",
              "0         2             8       2003          2003     ...              65.0   \n",
              "1         2             6       1976          1976     ...              80.0   \n",
              "2         2             6       2001          2002     ...              68.0   \n",
              "3         1             7       1915          1970     ...              60.0   \n",
              "4         2             9       2000          2000     ...              84.0   \n",
              "\n",
              "   WoodDeckSF  2ndFlrSF  OpenPorchSF  HalfBath  LotArea  BsmtFullBath  \\\n",
              "0           0       854           61         1     8450             1   \n",
              "1         298         0            0         0     9600             0   \n",
              "2           0       866           42         1    11250             1   \n",
              "3           0       756           35         0     9550             1   \n",
              "4         192      1053           84         1    14260             1   \n",
              "\n",
              "   BsmtUnfSF  BedroomAbvGr  ScreenPorch  \n",
              "0        150             3            0  \n",
              "1        284             3            0  \n",
              "2        434             3            0  \n",
              "3        540             3            0  \n",
              "4        490             4            0  \n",
              "\n",
              "[5 rows x 24 columns]"
            ],
            "text/html": [
              "<div>\n",
              "<style scoped>\n",
              "    .dataframe tbody tr th:only-of-type {\n",
              "        vertical-align: middle;\n",
              "    }\n",
              "\n",
              "    .dataframe tbody tr th {\n",
              "        vertical-align: top;\n",
              "    }\n",
              "\n",
              "    .dataframe thead th {\n",
              "        text-align: right;\n",
              "    }\n",
              "</style>\n",
              "<table border=\"1\" class=\"dataframe\">\n",
              "  <thead>\n",
              "    <tr style=\"text-align: right;\">\n",
              "      <th></th>\n",
              "      <th>OverallQual</th>\n",
              "      <th>GrLivArea</th>\n",
              "      <th>GarageCars</th>\n",
              "      <th>GarageArea</th>\n",
              "      <th>TotalBsmtSF</th>\n",
              "      <th>1stFlrSF</th>\n",
              "      <th>FullBath</th>\n",
              "      <th>TotRmsAbvGrd</th>\n",
              "      <th>YearBuilt</th>\n",
              "      <th>YearRemodAdd</th>\n",
              "      <th>...</th>\n",
              "      <th>LotFrontage</th>\n",
              "      <th>WoodDeckSF</th>\n",
              "      <th>2ndFlrSF</th>\n",
              "      <th>OpenPorchSF</th>\n",
              "      <th>HalfBath</th>\n",
              "      <th>LotArea</th>\n",
              "      <th>BsmtFullBath</th>\n",
              "      <th>BsmtUnfSF</th>\n",
              "      <th>BedroomAbvGr</th>\n",
              "      <th>ScreenPorch</th>\n",
              "    </tr>\n",
              "  </thead>\n",
              "  <tbody>\n",
              "    <tr>\n",
              "      <th>0</th>\n",
              "      <td>7</td>\n",
              "      <td>1710</td>\n",
              "      <td>2</td>\n",
              "      <td>548</td>\n",
              "      <td>856</td>\n",
              "      <td>856</td>\n",
              "      <td>2</td>\n",
              "      <td>8</td>\n",
              "      <td>2003</td>\n",
              "      <td>2003</td>\n",
              "      <td>...</td>\n",
              "      <td>65.0</td>\n",
              "      <td>0</td>\n",
              "      <td>854</td>\n",
              "      <td>61</td>\n",
              "      <td>1</td>\n",
              "      <td>8450</td>\n",
              "      <td>1</td>\n",
              "      <td>150</td>\n",
              "      <td>3</td>\n",
              "      <td>0</td>\n",
              "    </tr>\n",
              "    <tr>\n",
              "      <th>1</th>\n",
              "      <td>6</td>\n",
              "      <td>1262</td>\n",
              "      <td>2</td>\n",
              "      <td>460</td>\n",
              "      <td>1262</td>\n",
              "      <td>1262</td>\n",
              "      <td>2</td>\n",
              "      <td>6</td>\n",
              "      <td>1976</td>\n",
              "      <td>1976</td>\n",
              "      <td>...</td>\n",
              "      <td>80.0</td>\n",
              "      <td>298</td>\n",
              "      <td>0</td>\n",
              "      <td>0</td>\n",
              "      <td>0</td>\n",
              "      <td>9600</td>\n",
              "      <td>0</td>\n",
              "      <td>284</td>\n",
              "      <td>3</td>\n",
              "      <td>0</td>\n",
              "    </tr>\n",
              "    <tr>\n",
              "      <th>2</th>\n",
              "      <td>7</td>\n",
              "      <td>1786</td>\n",
              "      <td>2</td>\n",
              "      <td>608</td>\n",
              "      <td>920</td>\n",
              "      <td>920</td>\n",
              "      <td>2</td>\n",
              "      <td>6</td>\n",
              "      <td>2001</td>\n",
              "      <td>2002</td>\n",
              "      <td>...</td>\n",
              "      <td>68.0</td>\n",
              "      <td>0</td>\n",
              "      <td>866</td>\n",
              "      <td>42</td>\n",
              "      <td>1</td>\n",
              "      <td>11250</td>\n",
              "      <td>1</td>\n",
              "      <td>434</td>\n",
              "      <td>3</td>\n",
              "      <td>0</td>\n",
              "    </tr>\n",
              "    <tr>\n",
              "      <th>3</th>\n",
              "      <td>7</td>\n",
              "      <td>1717</td>\n",
              "      <td>3</td>\n",
              "      <td>642</td>\n",
              "      <td>756</td>\n",
              "      <td>961</td>\n",
              "      <td>1</td>\n",
              "      <td>7</td>\n",
              "      <td>1915</td>\n",
              "      <td>1970</td>\n",
              "      <td>...</td>\n",
              "      <td>60.0</td>\n",
              "      <td>0</td>\n",
              "      <td>756</td>\n",
              "      <td>35</td>\n",
              "      <td>0</td>\n",
              "      <td>9550</td>\n",
              "      <td>1</td>\n",
              "      <td>540</td>\n",
              "      <td>3</td>\n",
              "      <td>0</td>\n",
              "    </tr>\n",
              "    <tr>\n",
              "      <th>4</th>\n",
              "      <td>8</td>\n",
              "      <td>2198</td>\n",
              "      <td>3</td>\n",
              "      <td>836</td>\n",
              "      <td>1145</td>\n",
              "      <td>1145</td>\n",
              "      <td>2</td>\n",
              "      <td>9</td>\n",
              "      <td>2000</td>\n",
              "      <td>2000</td>\n",
              "      <td>...</td>\n",
              "      <td>84.0</td>\n",
              "      <td>192</td>\n",
              "      <td>1053</td>\n",
              "      <td>84</td>\n",
              "      <td>1</td>\n",
              "      <td>14260</td>\n",
              "      <td>1</td>\n",
              "      <td>490</td>\n",
              "      <td>4</td>\n",
              "      <td>0</td>\n",
              "    </tr>\n",
              "  </tbody>\n",
              "</table>\n",
              "<p>5 rows × 24 columns</p>\n",
              "</div>"
            ]
          },
          "metadata": {
            "tags": []
          },
          "execution_count": 367
        }
      ]
    },
    {
      "cell_type": "code",
      "metadata": {
        "trusted": true,
        "id": "lPxHp2uA8s2g",
        "colab_type": "code",
        "outputId": "33af8db1-f81d-4484-b0c6-3865c8662c12",
        "colab": {}
      },
      "source": [
        "null_columns=X.columns[X.isnull().any()]\n",
        "X[null_columns].isnull().sum()"
      ],
      "execution_count": 0,
      "outputs": [
        {
          "output_type": "execute_result",
          "data": {
            "text/plain": [
              "GarageYrBlt     81\n",
              "MasVnrArea       8\n",
              "LotFrontage    259\n",
              "dtype: int64"
            ]
          },
          "metadata": {
            "tags": []
          },
          "execution_count": 368
        }
      ]
    },
    {
      "cell_type": "code",
      "metadata": {
        "trusted": true,
        "id": "4HvJvO_T8s2j",
        "colab_type": "code",
        "outputId": "eeea322d-1ffc-4f49-aeb0-66d1e50a2ed3",
        "colab": {}
      },
      "source": [
        "median = int(X['MasVnrArea'].median())\n",
        "X['MasVnrArea'].fillna(int(median),inplace=True)\n",
        "median = X['LotFrontage'].median()\n",
        "X['LotFrontage'].fillna(int(median),inplace=True)\n",
        "median = X['GarageYrBlt'].median()\n",
        "X['GarageYrBlt'].fillna(int(median),inplace=True)\n",
        "print(X.shape)\n",
        "print(X.shape)\n",
        "test_X  = test_set[needed_columns]\n",
        "print(test_X.shape)\n",
        "null_columns=X.columns[X.isnull().any()]\n",
        "X[null_columns].isnull().sum()\n",
        "null_columns=test_X.columns[test_X.isnull().any()]\n",
        "test_X[null_columns].isnull().sum()"
      ],
      "execution_count": 0,
      "outputs": [
        {
          "output_type": "stream",
          "text": [
            "(1460, 24)\n",
            "(1460, 24)\n",
            "(1459, 24)\n"
          ],
          "name": "stdout"
        },
        {
          "output_type": "stream",
          "text": [
            "/opt/conda/lib/python3.6/site-packages/pandas/core/generic.py:5434: SettingWithCopyWarning: \n",
            "A value is trying to be set on a copy of a slice from a DataFrame\n",
            "\n",
            "See the caveats in the documentation: http://pandas.pydata.org/pandas-docs/stable/indexing.html#indexing-view-versus-copy\n",
            "  self._update_inplace(new_data)\n"
          ],
          "name": "stderr"
        },
        {
          "output_type": "execute_result",
          "data": {
            "text/plain": [
              "GarageCars        1\n",
              "GarageArea        1\n",
              "TotalBsmtSF       1\n",
              "GarageYrBlt      78\n",
              "MasVnrArea       15\n",
              "BsmtFinSF1        1\n",
              "LotFrontage     227\n",
              "BsmtFullBath      2\n",
              "BsmtUnfSF         1\n",
              "dtype: int64"
            ]
          },
          "metadata": {
            "tags": []
          },
          "execution_count": 369
        }
      ]
    },
    {
      "cell_type": "code",
      "metadata": {
        "trusted": true,
        "id": "7WcRI1KN8s2m",
        "colab_type": "code",
        "outputId": "cbf4f2d9-e2db-4021-86a0-15392f3fb865",
        "colab": {}
      },
      "source": [
        "median = test_X['MasVnrArea'].median()\n",
        "test_X['MasVnrArea'].fillna(int(median),inplace=True)\n",
        "median = test_X['BsmtFinSF1'].median()\n",
        "test_X['BsmtFinSF1'].fillna(median,inplace=True)\n",
        "median = test_X['LotFrontage'].median()\n",
        "test_X['LotFrontage'].fillna(int(median),inplace=True)\n",
        "median = test_X['BsmtFullBath'].median()\n",
        "test_X['BsmtFullBath'].fillna(median,inplace=True)\n",
        "median = test_X['BsmtUnfSF'].median()\n",
        "test_X['BsmtUnfSF'].fillna(median,inplace=True)\n",
        "median = test_X['GarageYrBlt'].median()\n",
        "test_X['GarageYrBlt'].fillna(int(median),inplace=True)\n",
        "median = test_X['GarageCars'].median()\n",
        "test_X['GarageCars'].fillna(median,inplace=True)\n",
        "median = test_X['GarageArea'].median()\n",
        "test_X['GarageArea'].fillna(median,inplace=True)\n",
        "median = test_X['TotalBsmtSF'].median()\n",
        "test_X['TotalBsmtSF'].fillna(median,inplace=True)\n",
        "null_columns=test_X.columns[test_X.isnull().any()]\n",
        "test_X[null_columns].isnull().sum()"
      ],
      "execution_count": 0,
      "outputs": [
        {
          "output_type": "execute_result",
          "data": {
            "text/plain": [
              "Series([], dtype: float64)"
            ]
          },
          "metadata": {
            "tags": []
          },
          "execution_count": 370
        }
      ]
    },
    {
      "cell_type": "code",
      "metadata": {
        "trusted": true,
        "id": "ak78aRjJ8s2o",
        "colab_type": "code",
        "outputId": "0076e8e8-a376-4668-8c2d-5ed5d6572179",
        "colab": {}
      },
      "source": [
        "null_columns=X.columns[X.isnull().any()]\n",
        "X[null_columns].isnull().sum()\n",
        "null_columns=test_X.columns[test_X.isnull().any()]\n",
        "test_X[null_columns].isnull().sum()"
      ],
      "execution_count": 0,
      "outputs": [
        {
          "output_type": "execute_result",
          "data": {
            "text/plain": [
              "Series([], dtype: float64)"
            ]
          },
          "metadata": {
            "tags": []
          },
          "execution_count": 371
        }
      ]
    },
    {
      "cell_type": "code",
      "metadata": {
        "trusted": true,
        "id": "mzamsF7U8s2t",
        "colab_type": "code",
        "colab": {}
      },
      "source": [
        "from sklearn.preprocessing import MinMaxScaler"
      ],
      "execution_count": 0,
      "outputs": []
    },
    {
      "cell_type": "code",
      "metadata": {
        "trusted": true,
        "id": "7eCwqMiQ8s2v",
        "colab_type": "code",
        "colab": {}
      },
      "source": [
        "\n",
        "scaler = MinMaxScaler()\n",
        "X_t = pd.DataFrame(scaler.fit_transform(X));\n",
        "X_te = pd.DataFrame(scaler.fit_transform(test_X));\n",
        "# print(X[:5])\n",
        "# print(X_t[:5])\n",
        "\n",
        "\n",
        "max= train_set['SalePrice'].max()\n",
        "y = y/max\n",
        "test_y = test_y/max\n"
      ],
      "execution_count": 0,
      "outputs": []
    },
    {
      "cell_type": "code",
      "metadata": {
        "trusted": true,
        "id": "KYya3O3T8s2x",
        "colab_type": "code",
        "outputId": "4208c42a-4147-4bcc-d2e3-c60600127504",
        "colab": {}
      },
      "source": [
        "from tensorflow import keras\n",
        "from keras.models import Sequential\n",
        "# model  = keras.Sequential()\n",
        "# model\n",
        "# model.add(keras.layers.Input(shape=X.shape[1:]));\n",
        "# model.add(keras.layers.Dense(20, activation=\"relu\"));\n",
        "# model.add(keras.layers.Dense(10, activation=\"relu\"));\n",
        "# model.add(keras.layers.Dense(1));\n",
        "# input1 = keras.layers.Input(shape=X.shape[1:])\n",
        "# hidden1 = keras.layers.Dense(300, activation=\"relu\")(input1)\n",
        "# hidden2 = keras.layers.Dense(300, activation=\"relu\")(hidden1)\n",
        "# hidden3  = keras.layers.Dense(100, activation=\"relu\")(hidden2)\n",
        "# output = keras.layers.Dense(1)(hidden3)\n",
        "from keras.models import Sequential\n",
        "from keras import regularizers\n",
        "from keras.layers import Dense\n",
        "three_layer_model = Sequential()\n",
        "three_layer_model.add(Dense(100, activation='relu',input_dim=X.shape[1:][0]))\n",
        "three_layer_model.add(Dense(50,activation='relu'))\n",
        "three_layer_model.add(Dense(output_dim=1,activation='linear'))\n",
        "three_layer_model.compile(loss='mse', optimizer='adam', metrics=['accuracy'])\n",
        "\n",
        "\n"
      ],
      "execution_count": 0,
      "outputs": [
        {
          "output_type": "stream",
          "text": [
            "/opt/conda/lib/python3.6/site-packages/ipykernel_launcher.py:20: UserWarning: Update your `Dense` call to the Keras 2 API: `Dense(activation=\"linear\", units=1)`\n"
          ],
          "name": "stderr"
        }
      ]
    },
    {
      "cell_type": "code",
      "metadata": {
        "trusted": true,
        "id": "jGig7B5G8s2z",
        "colab_type": "code",
        "outputId": "86a0830e-a79b-498f-c167-b390926f3801",
        "colab": {}
      },
      "source": [
        "history=three_layer_model.fit(X_t,y,epochs=30)\n",
        "predictions = three_layer_model.predict(X_te)\n",
        "print(predictions[:5],\"  \", test_y[:5])\n",
        "#history.history"
      ],
      "execution_count": 0,
      "outputs": [
        {
          "output_type": "stream",
          "text": [
            "Epoch 1/30\n",
            "1460/1460 [==============================] - 1s 907us/step - loss: 0.0058 - acc: 6.8493e-04\n",
            "Epoch 2/30\n",
            "1460/1460 [==============================] - 0s 65us/step - loss: 0.0026 - acc: 6.8493e-04\n",
            "Epoch 3/30\n",
            "1460/1460 [==============================] - 0s 64us/step - loss: 0.0023 - acc: 6.8493e-04\n",
            "Epoch 4/30\n",
            "1460/1460 [==============================] - 0s 60us/step - loss: 0.0021 - acc: 6.8493e-04\n",
            "Epoch 5/30\n",
            "1460/1460 [==============================] - 0s 60us/step - loss: 0.0019 - acc: 6.8493e-04\n",
            "Epoch 6/30\n",
            "1460/1460 [==============================] - 0s 59us/step - loss: 0.0017 - acc: 6.8493e-04\n",
            "Epoch 7/30\n",
            "1460/1460 [==============================] - 0s 54us/step - loss: 0.0018 - acc: 6.8493e-04\n",
            "Epoch 8/30\n",
            "1460/1460 [==============================] - 0s 58us/step - loss: 0.0018 - acc: 6.8493e-04\n",
            "Epoch 9/30\n",
            "1460/1460 [==============================] - 0s 53us/step - loss: 0.0015 - acc: 6.8493e-04\n",
            "Epoch 10/30\n",
            "1460/1460 [==============================] - 0s 54us/step - loss: 0.0015 - acc: 6.8493e-04\n",
            "Epoch 11/30\n",
            "1460/1460 [==============================] - 0s 52us/step - loss: 0.0014 - acc: 6.8493e-04\n",
            "Epoch 12/30\n",
            "1460/1460 [==============================] - 0s 53us/step - loss: 0.0015 - acc: 6.8493e-04\n",
            "Epoch 13/30\n",
            "1460/1460 [==============================] - 0s 55us/step - loss: 0.0012 - acc: 6.8493e-04\n",
            "Epoch 14/30\n",
            "1460/1460 [==============================] - 0s 62us/step - loss: 0.0012 - acc: 6.8493e-04\n",
            "Epoch 15/30\n",
            "1460/1460 [==============================] - 0s 54us/step - loss: 0.0012 - acc: 6.8493e-04\n",
            "Epoch 16/30\n",
            "1460/1460 [==============================] - 0s 54us/step - loss: 0.0013 - acc: 6.8493e-04\n",
            "Epoch 17/30\n",
            "1460/1460 [==============================] - 0s 57us/step - loss: 0.0012 - acc: 6.8493e-04\n",
            "Epoch 18/30\n",
            "1460/1460 [==============================] - 0s 55us/step - loss: 0.0011 - acc: 6.8493e-04\n",
            "Epoch 19/30\n",
            "1460/1460 [==============================] - 0s 53us/step - loss: 0.0011 - acc: 6.8493e-04\n",
            "Epoch 20/30\n",
            "1460/1460 [==============================] - 0s 56us/step - loss: 0.0012 - acc: 6.8493e-04\n",
            "Epoch 21/30\n",
            "1460/1460 [==============================] - 0s 54us/step - loss: 0.0011 - acc: 6.8493e-04\n",
            "Epoch 22/30\n",
            "1460/1460 [==============================] - 0s 59us/step - loss: 0.0010 - acc: 6.8493e-04\n",
            "Epoch 23/30\n",
            "1460/1460 [==============================] - 0s 58us/step - loss: 9.2854e-04 - acc: 6.8493e-04\n",
            "Epoch 24/30\n",
            "1460/1460 [==============================] - 0s 58us/step - loss: 9.3226e-04 - acc: 6.8493e-04\n",
            "Epoch 25/30\n",
            "1460/1460 [==============================] - 0s 62us/step - loss: 0.0010 - acc: 6.8493e-04\n",
            "Epoch 26/30\n",
            "1460/1460 [==============================] - 0s 60us/step - loss: 0.0010 - acc: 6.8493e-04\n",
            "Epoch 27/30\n",
            "1460/1460 [==============================] - 0s 54us/step - loss: 9.2685e-04 - acc: 6.8493e-04\n",
            "Epoch 28/30\n",
            "1460/1460 [==============================] - 0s 50us/step - loss: 8.4547e-04 - acc: 6.8493e-04\n",
            "Epoch 29/30\n",
            "1460/1460 [==============================] - 0s 51us/step - loss: 7.8801e-04 - acc: 6.8493e-04\n",
            "Epoch 30/30\n",
            "1460/1460 [==============================] - 0s 52us/step - loss: 7.9401e-04 - acc: 6.8493e-04\n",
            "[[0.20121609]\n",
            " [0.23529924]\n",
            " [0.2953675 ]\n",
            " [0.29329547]\n",
            " [0.25579336]]    0    0.224208\n",
            "1    0.248687\n",
            "2    0.243157\n",
            "3    0.237507\n",
            "4    0.199642\n",
            "Name: SalePrice, dtype: float64\n"
          ],
          "name": "stdout"
        }
      ]
    },
    {
      "cell_type": "code",
      "metadata": {
        "trusted": true,
        "id": "HmnS7rfc8s21",
        "colab_type": "code",
        "outputId": "f5347dc3-57fe-4591-9833-24255618d8ff",
        "colab": {}
      },
      "source": [
        "from keras.models import Sequential\n",
        "from keras import regularizers\n",
        "from keras.layers import Dense\n",
        "five_layer_model = Sequential()\n",
        "five_layer_model.add(Dense(300, activation='relu',input_dim=X.shape[1:][0]))\n",
        "five_layer_model.add(Dense(100,activation='relu'))\n",
        "five_layer_model.add(Dense(50,activation='relu'))\n",
        "five_layer_model.add(Dense(10,activation='relu'))\n",
        "five_layer_model.add(Dense(output_dim=1,activation='linear'))\n",
        "five_layer_model.compile(loss='mse', optimizer='adam', metrics=['accuracy'])"
      ],
      "execution_count": 0,
      "outputs": [
        {
          "output_type": "stream",
          "text": [
            "/opt/conda/lib/python3.6/site-packages/ipykernel_launcher.py:9: UserWarning: Update your `Dense` call to the Keras 2 API: `Dense(activation=\"linear\", units=1)`\n",
            "  if __name__ == '__main__':\n"
          ],
          "name": "stderr"
        }
      ]
    },
    {
      "cell_type": "code",
      "metadata": {
        "trusted": true,
        "id": "PgK3QakF8s23",
        "colab_type": "code",
        "outputId": "62e33bfa-f3a3-45f5-8a17-e99aa01e229b",
        "colab": {}
      },
      "source": [
        "history=five_layer_model.fit(X_t,y,epochs=30)\n",
        "predictions = five_layer_model.predict(X_te)\n",
        "print(predictions[:5],\"  \", test_y[:5])"
      ],
      "execution_count": 0,
      "outputs": [
        {
          "output_type": "stream",
          "text": [
            "Epoch 1/30\n",
            "1460/1460 [==============================] - 2s 1ms/step - loss: 0.0069 - acc: 0.0000e+00\n",
            "Epoch 2/30\n",
            "1460/1460 [==============================] - 0s 70us/step - loss: 0.0025 - acc: 6.8493e-04\n",
            "Epoch 3/30\n",
            "1460/1460 [==============================] - 0s 64us/step - loss: 0.0021 - acc: 6.8493e-04\n",
            "Epoch 4/30\n",
            "1460/1460 [==============================] - 0s 68us/step - loss: 0.0020 - acc: 6.8493e-04\n",
            "Epoch 5/30\n",
            "1460/1460 [==============================] - 0s 72us/step - loss: 0.0018 - acc: 6.8493e-04\n",
            "Epoch 6/30\n",
            "1460/1460 [==============================] - 0s 69us/step - loss: 0.0016 - acc: 6.8493e-04\n",
            "Epoch 7/30\n",
            "1460/1460 [==============================] - 0s 67us/step - loss: 0.0016 - acc: 6.8493e-04\n",
            "Epoch 8/30\n",
            "1460/1460 [==============================] - 0s 65us/step - loss: 0.0015 - acc: 6.8493e-04\n",
            "Epoch 9/30\n",
            "1460/1460 [==============================] - 0s 66us/step - loss: 0.0015 - acc: 6.8493e-04\n",
            "Epoch 10/30\n",
            "1460/1460 [==============================] - 0s 65us/step - loss: 0.0013 - acc: 6.8493e-04\n",
            "Epoch 11/30\n",
            "1460/1460 [==============================] - 0s 77us/step - loss: 0.0013 - acc: 6.8493e-04\n",
            "Epoch 12/30\n",
            "1460/1460 [==============================] - 0s 76us/step - loss: 0.0012 - acc: 6.8493e-04\n",
            "Epoch 13/30\n",
            "1460/1460 [==============================] - 0s 72us/step - loss: 0.0012 - acc: 6.8493e-04\n",
            "Epoch 14/30\n",
            "1460/1460 [==============================] - 0s 69us/step - loss: 0.0011 - acc: 6.8493e-04\n",
            "Epoch 15/30\n",
            "1460/1460 [==============================] - 0s 70us/step - loss: 0.0011 - acc: 6.8493e-04\n",
            "Epoch 16/30\n",
            "1460/1460 [==============================] - 0s 69us/step - loss: 0.0010 - acc: 6.8493e-04\n",
            "Epoch 17/30\n",
            "1460/1460 [==============================] - 0s 79us/step - loss: 9.3471e-04 - acc: 6.8493e-04\n",
            "Epoch 18/30\n",
            "1460/1460 [==============================] - 0s 70us/step - loss: 0.0010 - acc: 6.8493e-04\n",
            "Epoch 19/30\n",
            "1460/1460 [==============================] - 0s 74us/step - loss: 9.2088e-04 - acc: 6.8493e-04\n",
            "Epoch 20/30\n",
            "1460/1460 [==============================] - 0s 74us/step - loss: 9.8922e-04 - acc: 6.8493e-04\n",
            "Epoch 21/30\n",
            "1460/1460 [==============================] - 0s 74us/step - loss: 9.6547e-04 - acc: 6.8493e-04\n",
            "Epoch 22/30\n",
            "1460/1460 [==============================] - 0s 73us/step - loss: 0.0010 - acc: 6.8493e-04\n",
            "Epoch 23/30\n",
            "1460/1460 [==============================] - 0s 69us/step - loss: 0.0010 - acc: 6.8493e-04\n",
            "Epoch 24/30\n",
            "1460/1460 [==============================] - 0s 67us/step - loss: 7.9274e-04 - acc: 6.8493e-04\n",
            "Epoch 25/30\n",
            "1460/1460 [==============================] - 0s 69us/step - loss: 9.4485e-04 - acc: 6.8493e-04\n",
            "Epoch 26/30\n",
            "1460/1460 [==============================] - 0s 70us/step - loss: 7.2647e-04 - acc: 6.8493e-04\n",
            "Epoch 27/30\n",
            "1460/1460 [==============================] - 0s 69us/step - loss: 7.0203e-04 - acc: 6.8493e-04\n",
            "Epoch 28/30\n",
            "1460/1460 [==============================] - 0s 71us/step - loss: 7.3225e-04 - acc: 6.8493e-04\n",
            "Epoch 29/30\n",
            "1460/1460 [==============================] - 0s 69us/step - loss: 7.5991e-04 - acc: 6.8493e-04\n",
            "Epoch 30/30\n",
            "1460/1460 [==============================] - 0s 69us/step - loss: 7.2984e-04 - acc: 6.8493e-04\n",
            "[[0.18765602]\n",
            " [0.21876758]\n",
            " [0.27828076]\n",
            " [0.28479898]\n",
            " [0.25641984]]    0    0.224208\n",
            "1    0.248687\n",
            "2    0.243157\n",
            "3    0.237507\n",
            "4    0.199642\n",
            "Name: SalePrice, dtype: float64\n"
          ],
          "name": "stdout"
        }
      ]
    },
    {
      "cell_type": "code",
      "metadata": {
        "trusted": true,
        "id": "5cFPxJ8c8s25",
        "colab_type": "code",
        "outputId": "627b9a14-7f74-45c5-fad8-367fb1a21be4",
        "colab": {}
      },
      "source": [
        "print(predictions[:5]*max,\"  \", test_y[:5]*max)"
      ],
      "execution_count": 0,
      "outputs": [
        {
          "output_type": "stream",
          "text": [
            "[[141680.29144406]\n",
            " [165169.52544451]\n",
            " [210101.97743773]\n",
            " [215023.22971821]\n",
            " [193596.97729349]]    0    169277.052498\n",
            "1    187758.393989\n",
            "2    183583.683570\n",
            "3    179317.477511\n",
            "4    150730.079977\n",
            "Name: SalePrice, dtype: float64\n"
          ],
          "name": "stdout"
        }
      ]
    },
    {
      "cell_type": "code",
      "metadata": {
        "trusted": true,
        "id": "6_6wU0nT8s28",
        "colab_type": "code",
        "colab": {}
      },
      "source": [
        "submission = pd.read_csv('/kaggle/input/test.csv')\n",
        "submit = submission[['Id']].copy()\n",
        "predictions = predictions * max;\n",
        "submit['SalePrice'] = predictions\n",
        "submit.to_csv('submission.csv',index=False)"
      ],
      "execution_count": 0,
      "outputs": []
    }
  ]
}